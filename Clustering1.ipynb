{
  "nbformat": 4,
  "nbformat_minor": 0,
  "metadata": {
    "colab": {
      "provenance": []
    },
    "kernelspec": {
      "name": "python3",
      "display_name": "Python 3"
    },
    "language_info": {
      "name": "python"
    }
  },
  "cells": [
    {
      "cell_type": "code",
      "execution_count": null,
      "metadata": {
        "id": "u1c4-07nCvN7"
      },
      "outputs": [],
      "source": [
        "import numpy as nm    \n",
        "import matplotlib.pyplot as mtp    \n",
        "import pandas as pd\n",
        "from sklearn.preprocessing import StandardScaler"
      ]
    },
    {
      "cell_type": "code",
      "source": [
        "input_data_CPU = pd.read_csv('fastStorage_CPU_Labeled.csv')\n",
        "input_data_Disk = pd.read_csv('fastStorage_Disk_Labeled.csv')\n",
        "input_data_Memory = pd.read_csv('fastStorage_Memory_Labeled.csv')\n",
        "input_data_Network = pd.read_csv('fastStorage_Network_Labeled.csv')"
      ],
      "metadata": {
        "id": "obGa127AC0Yj"
      },
      "execution_count": null,
      "outputs": []
    },
    {
      "cell_type": "code",
      "source": [
        "input_data_CPU = pd.DataFrame(input_data_CPU['CPU_Clusters'])"
      ],
      "metadata": {
        "id": "ugihJEH7C2_s"
      },
      "execution_count": null,
      "outputs": []
    },
    {
      "cell_type": "code",
      "source": [
        "display(input_data_CPU)"
      ],
      "metadata": {
        "id": "uqDTLn2CC7Lw"
      },
      "execution_count": null,
      "outputs": []
    },
    {
      "cell_type": "code",
      "source": [
        "input_data_Disk = pd.DataFrame(input_data_Disk['Disk_Cluster'])\n",
        "input_data_Network = pd.DataFrame(input_data_Network['Network_Cluster'])\n",
        "input_data_Memory = pd.DataFrame(input_data_Memory['Memory_Cluster'])"
      ],
      "metadata": {
        "id": "ZmTGcXtDC8nx"
      },
      "execution_count": null,
      "outputs": []
    },
    {
      "cell_type": "code",
      "source": [
        "input_data_CPU_1 = input_data_CPU"
      ],
      "metadata": {
        "id": "cIWSR9h2C-bm"
      },
      "execution_count": null,
      "outputs": []
    },
    {
      "cell_type": "code",
      "source": [
        "input_data_CPU_1['Disk_Cluster'] = input_data_Disk"
      ],
      "metadata": {
        "id": "GAgFLONCDADq"
      },
      "execution_count": null,
      "outputs": []
    },
    {
      "cell_type": "code",
      "source": [
        "input_data_CPU_1['Network_Cluster'] = input_data_Network\n",
        "input_data_CPU_1['Memory_Cluster'] = input_data_Memorydisplay(input_data_CPU_1)\n",
        "display(input_data_CPU_1)"
      ],
      "metadata": {
        "id": "YOgTLLxqDCQS"
      },
      "execution_count": null,
      "outputs": []
    },
    {
      "cell_type": "code",
      "source": [
        "input_data_CPU_1.to_csv('Combined_Labeled_data.csv')\n",
        "len(input_data_CPU_1)\n",
        "input_data_CPU_1.groupby(by=[\"CPU_Clusters\", \"Disk_Cluster\", \"Network_Cluster\", \"Memory_Cluster\"])[\"Disk_Cluster\"].count()"
      ],
      "metadata": {
        "id": "aQtRiTnaDD_0"
      },
      "execution_count": null,
      "outputs": []
    },
    {
      "cell_type": "markdown",
      "source": [
        "#Extract values from Clusters#"
      ],
      "metadata": {
        "id": "lWl4j_MSDI-4"
      }
    },
    {
      "cell_type": "code",
      "source": [
        "data = pd.read_csv('K_Clusters')"
      ],
      "metadata": {
        "id": "7gx5EERfDHKR"
      },
      "execution_count": null,
      "outputs": []
    },
    {
      "cell_type": "code",
      "source": [
        "km = KMeans(n_clusters=24).fit(data)"
      ],
      "metadata": {
        "id": "yYya0G7GDLcS"
      },
      "execution_count": null,
      "outputs": []
    },
    {
      "cell_type": "code",
      "source": [
        "cluster_map = pd.DataFrame()\n",
        "cluster_map['data_index'] = data.index.values\n",
        "cluster_map['cluster'] = km.labels_\n",
        "kmeans_sel = KMeans (init='k-means++',n_clusters=24,n_init=100, random_state=1).fit(normalized_df) labels = pd.DataFrame (kmeans_sel.labels_) clustered_data = cluster_data.assign(Cluster=labels)\n",
        "grouped_km = clustered_data.groupby(['Cluster']).mean().round(1) \n",
        "grouped_km"
      ],
      "metadata": {
        "id": "QUh3tN6BDM5U"
      },
      "execution_count": null,
      "outputs": []
    },
    {
      "cell_type": "code",
      "source": [
        "data = pd.read_csv('New_Dataset_ColsAdded.csv')"
      ],
      "metadata": {
        "id": "nsrSQV0dDOKo"
      },
      "execution_count": null,
      "outputs": []
    },
    {
      "cell_type": "code",
      "source": [
        "km = KMeans(n_clusters=24).fit(data)"
      ],
      "metadata": {
        "id": "wixEKz5jDQEA"
      },
      "execution_count": null,
      "outputs": []
    },
    {
      "cell_type": "code",
      "source": [
        "cluster_map = pd.DataFrame()\n",
        "cluster_map['data_index'] = data.index.values\n",
        "cluster_map['cluster'] = km.labels_"
      ],
      "metadata": {
        "id": "-sSBFWSGDSnN"
      },
      "execution_count": null,
      "outputs": []
    },
    {
      "cell_type": "code",
      "source": [
        "kmeans1 = KMeans(n_clusters=24)\n",
        "kmeans1.fit(data_points)\n",
        "cluster_labels1 = kmeans1.labels_\n",
        "cluster1_values = data_points[cluster_labels1 == 0]\n",
        "kmeans2 = KMeans(n_clusters=3)\n",
        "kmeans2.fit(cluster1_values)\n",
        "cluster_labels2 = kmeans2.labels_\n",
        "combined_cluster_labels = np.where(cluster_labels1 == 0, cluster_labels2.max() + 1 + cluster_labels2, cluster_labels1)"
      ],
      "metadata": {
        "id": "lS2CsyehDUbj"
      },
      "execution_count": null,
      "outputs": []
    },
    {
      "cell_type": "code",
      "source": [
        "kmeans_combined = KMeans(n_clusters=4)\n",
        "kmeans_combined.fit(combined_values)\n",
        "cluster_labels_combined = kmeans_combined.labels_"
      ],
      "metadata": {
        "id": "uwGNYjH3DWxo"
      },
      "execution_count": null,
      "outputs": []
    },
    {
      "cell_type": "code",
      "source": [
        "print(\"VM using clustered data:\", cluster_labels_combined)"
      ],
      "metadata": {
        "id": "je3nnFzxDYC7"
      },
      "execution_count": null,
      "outputs": []
    },
    {
      "cell_type": "code",
      "source": [
        "print(\"VM using random data:\", grouped_km)"
      ],
      "metadata": {
        "id": "fu57wlLWDbLz"
      },
      "execution_count": null,
      "outputs": []
    }
  ]
}