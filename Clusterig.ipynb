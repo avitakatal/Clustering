import numpy as nm    
import matplotlib.pyplot as mtp    
import pandas as pd
from sklearn.preprocessing import StandardScaler

input_data_CPU = pd.read_csv('fastStorage_CPU_Labeled.csv')
input_data_Disk = pd.read_csv('fastStorage_Disk_Labeled.csv')
input_data_Memory = pd.read_csv('fastStorage_Memory_Labeled.csv')
input_data_Network = pd.read_csv('fastStorage_Network_Labeled.csv')

input_data_CPU = pd.DataFrame(input_data_CPU['CPU_Clusters'])
display(input_data_CPU)

input_data_Disk = pd.DataFrame(input_data_Disk['Disk_Cluster'])
input_data_Network = pd.DataFrame(input_data_Network['Network_Cluster'])
input_data_Memory = pd.DataFrame(input_data_Memory['Memory_Cluster'])

input_data_CPU_1 = input_data_CPU

input_data_CPU_1['Disk_Cluster'] = input_data_Disk


input_data_CPU_1['Network_Cluster'] = input_data_Network
input_data_CPU_1['Memory_Cluster'] = input_data_Memorydisplay(input_data_CPU_1)
display(input_data_CPU_1)

input_data_CPU_1.to_csv('Combined_Labeled_data.csv')
len(input_data_CPU_1)
input_data_CPU_1.groupby(by=["CPU_Clusters", "Disk_Cluster", "Network_Cluster", "Memory_Cluster"])["Disk_Cluster"].count()

#Extract values from Clusters#

data = pd.read_csv('K_Clusters')

km = KMeans(n_clusters=24).fit(data)

cluster_map = pd.DataFrame()
cluster_map['data_index'] = data.index.values
cluster_map['cluster'] = km.labels_
kmeans_sel = KMeans (init='k-means++',n_clusters=24,n_init=100, random_state=1).fit(normalized_df) labels = pd.DataFrame (kmeans_sel.labels_) clustered_data = cluster_data.assign(Cluster=labels)
grouped_km = clustered_data.groupby(['Cluster']).mean().round(1) 
grouped_km

data = pd.read_csv('New_Dataset_ColsAdded.csv')

km = KMeans(n_clusters=24).fit(data)

cluster_map = pd.DataFrame()
cluster_map['data_index'] = data.index.values
cluster_map['cluster'] = km.labels_

kmeans1 = KMeans(n_clusters=24)
kmeans1.fit(data_points)
cluster_labels1 = kmeans1.labels_
cluster1_values = data_points[cluster_labels1 == 0]
kmeans2 = KMeans(n_clusters=3)
kmeans2.fit(cluster1_values)
cluster_labels2 = kmeans2.labels_
combined_cluster_labels = np.where(cluster_labels1 == 0, cluster_labels2.max() + 1 + cluster_labels2, cluster_labels1)

kmeans_combined = KMeans(n_clusters=4)
kmeans_combined.fit(combined_values)
cluster_labels_combined = kmeans_combined.labels_

print("VM using clustered data:", cluster_labels_combined)
print("VM using random data:", grouped_km)